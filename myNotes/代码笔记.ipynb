{
 "cells": [
  {
   "cell_type": "markdown",
   "metadata": {},
   "source": [
    "### np.random.choice()\n",
    "\n",
    "a : 1-D array-like or int\n",
    "    If an ndarray, a random sample is generated from its elements. \n",
    "    If an int, the random sample is generated as if a was np.arange(n)\n",
    "\n",
    "size : int or tuple of ints, optional \n",
    "\n",
    "replace : boolean, optional\n",
    "    Whether the sample is with or without replacement\n",
    "\n",
    "p : 1-D array-like, optional\n",
    "    The probabilities associated with each entry in a. If not given the sample assumes a uniform distribution over all entries in a."
   ]
  },
  {
   "cell_type": "code",
   "execution_count": null,
   "metadata": {
    "collapsed": true
   },
   "outputs": [],
   "source": []
  }
 ],
 "metadata": {
  "kernelspec": {
   "display_name": "Python 3",
   "language": "python",
   "name": "python3"
  },
  "language_info": {
   "codemirror_mode": {
    "name": "ipython",
    "version": 3
   },
   "file_extension": ".py",
   "mimetype": "text/x-python",
   "name": "python",
   "nbconvert_exporter": "python",
   "pygments_lexer": "ipython3",
   "version": "3.6.1"
  }
 },
 "nbformat": 4,
 "nbformat_minor": 2
}
