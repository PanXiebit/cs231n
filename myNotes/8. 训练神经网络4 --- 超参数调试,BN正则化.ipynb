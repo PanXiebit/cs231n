{
 "cells": [
  {
   "cell_type": "markdown",
   "metadata": {},
   "source": [
    "### 1. 超参数调试方法\n",
    "\n",
    "1) Try random values, and donnot use a grid\n",
    "\n",
    "2) Coarse to fine\n",
    "\n",
    "3) using an apporiate scale to pick hyperparameters\n",
    "\n",
    "以对学习率$\\alpha$的调试为例,需要从[0.0001,1]之间随机选择进行调试.显然,随机选出来的90%会集中在[0.1,1]之间.\n",
    "\n",
    "为解决这种情况,可以将$\\alpha$调整为$log(\\alpha)$,这样原本是[0.0001,1]的均匀分布转化为了[-4,0]的均匀分布~\n",
    "\n",
    "以对momentum参数$\\beta$的调试为例,需要从[0.9,0.9999]之间选择,那么可以转换为($1-\\beta$)在[0.0001,1]之间进行选择,然后同上~\n",
    "\n",
    "4)babysitting one model 破机器表示这个可以有....\n",
    "\n",
    "5)Training many  models in parallel"
   ]
  },
  {
   "cell_type": "markdown",
   "metadata": {},
   "source": [
    "### 2. Batch Normalization\n"
   ]
  },
  {
   "cell_type": "markdown",
   "metadata": {},
   "source": [
    "BN具体就是在线性输出结果(全连接层或卷积层)之后,在激活函数之前对输出的结果$Z^{[l]}$进行规范化处理.\n",
    "\n",
    "BN forward:\n",
    "<img src=\"https://pic2.zhimg.com/80/9ad70be49c408d464c71b8e9a006d141_hd.jpg\" weight=300 height=300>"
   ]
  },
  {
   "cell_type": "markdown",
   "metadata": {},
   "source": [
    "#### 这样做的目的是什么?\n",
    "以隐藏层$l->l+1$为例, $affine^l->BN->relu->dropout->affine^{l+1}$"
   ]
  },
  {
   "cell_type": "markdown",
   "metadata": {},
   "source": [
    "对线性化输出$Z^l$进行规范化处理,使得其失活后的数据满足一定的分布($\\gamma和\\beta 通过训练得到的动态的分布$),也就是$l+1$层的输入,从而更好的训练$l+1$层的参数W和b.\n",
    "\n",
    "Machine learning methods tend to work better when their input data consists of uncorrelated features with zero mean and unit variance."
   ]
  },
  {
   "cell_type": "code",
   "execution_count": null,
   "metadata": {
    "collapsed": true
   },
   "outputs": [],
   "source": []
  }
 ],
 "metadata": {
  "kernelspec": {
   "display_name": "Python 3",
   "language": "python",
   "name": "python3"
  },
  "language_info": {
   "codemirror_mode": {
    "name": "ipython",
    "version": 3
   },
   "file_extension": ".py",
   "mimetype": "text/x-python",
   "name": "python",
   "nbconvert_exporter": "python",
   "pygments_lexer": "ipython3",
   "version": "3.6.1"
  }
 },
 "nbformat": 4,
 "nbformat_minor": 2
}
