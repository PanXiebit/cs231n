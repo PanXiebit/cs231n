{
 "cells": [
  {
   "cell_type": "markdown",
   "metadata": {},
   "source": [
    "# Dropout\n",
    "Dropout [1] is a technique for regularizing neural networks by randomly setting some features to zero during the forward pass. In this exercise you will implement a dropout layer and modify your fully-connected network to optionally use dropout.\n",
    "\n",
    "[1] Geoffrey E. Hinton et al, \"Improving neural networks by preventing co-adaptation of feature detectors\", arXiv 2012"
   ]
  },
  {
   "cell_type": "code",
   "execution_count": 2,
   "metadata": {
    "collapsed": true
   },
   "outputs": [],
   "source": [
    "# As usual, a bit of setup\n",
    "from __future__ import print_function\n",
    "import time\n",
    "import numpy as np\n",
    "import matplotlib.pyplot as plt\n",
    "from cs231n.classifiers.fc_net import *\n",
    "from cs231n.data_utils import get_CIFAR10_data\n",
    "from cs231n.gradient_check import eval_numerical_gradient, eval_numerical_gradient_array\n",
    "from cs231n.solver import Solver\n",
    "\n",
    "%matplotlib inline\n",
    "plt.rcParams['figure.figsize'] = (10.0, 8.0) # set default size of plots\n",
    "plt.rcParams['image.interpolation'] = 'nearest'\n",
    "plt.rcParams['image.cmap'] = 'gray'\n",
    "\n",
    "# for auto-reloading external modules\n",
    "# see http://stackoverflow.com/questions/1907993/autoreload-of-modules-in-ipython\n",
    "%load_ext autoreload\n",
    "%autoreload 2\n",
    "\n",
    "def rel_error(x, y):\n",
    "  \"\"\" returns relative error \"\"\"\n",
    "  return np.max(np.abs(x - y) / (np.maximum(1e-8, np.abs(x) + np.abs(y))))"
   ]
  },
  {
   "cell_type": "code",
   "execution_count": 2,
   "metadata": {},
   "outputs": [
    {
     "name": "stdout",
     "output_type": "stream",
     "text": [
      "X_train:  (49000, 3, 32, 32)\n",
      "y_train:  (49000,)\n",
      "X_val:  (1000, 3, 32, 32)\n",
      "y_val:  (1000,)\n",
      "X_test:  (1000, 3, 32, 32)\n",
      "y_test:  (1000,)\n"
     ]
    }
   ],
   "source": [
    "# Load the (preprocessed) CIFAR10 data.\n",
    "\n",
    "data = get_CIFAR10_data()\n",
    "for k, v in data.items():\n",
    "  print('%s: ' % k, v.shape)"
   ]
  },
  {
   "cell_type": "markdown",
   "metadata": {},
   "source": [
    "# Dropout forward pass\n",
    "In the file `cs231n/layers.py`, implement the forward pass for dropout. Since dropout behaves differently during training and testing, make sure to implement the operation for both modes.\n",
    "\n",
    "Once you have done so, run the cell below to test your implementation."
   ]
  },
  {
   "cell_type": "code",
   "execution_count": 3,
   "metadata": {},
   "outputs": [
    {
     "data": {
      "text/plain": [
       "array([1, 2, 0])"
      ]
     },
     "execution_count": 3,
     "metadata": {},
     "output_type": "execute_result"
    }
   ],
   "source": [
    "a = np.array([1,2,2])\n",
    "b = np.array([True, True, False])\n",
    "a * b"
   ]
  },
  {
   "cell_type": "code",
   "execution_count": 6,
   "metadata": {},
   "outputs": [
    {
     "name": "stdout",
     "output_type": "stream",
     "text": [
      "Running tests with p =  0.3\n",
      "Mean of input:  10.0002078785\n",
      "Mean of train-time output:  10.0350727971\n",
      "Mean of test-time output:  10.0002078785\n",
      "Fraction of train-time output set to zero:  0.699124\n",
      "Fraction of test-time output set to zero:  0.0\n",
      "\n",
      "Running tests with p =  0.6\n",
      "Mean of input:  10.0002078785\n",
      "Mean of train-time output:  9.97691075877\n",
      "Mean of test-time output:  10.0002078785\n",
      "Fraction of train-time output set to zero:  0.401368\n",
      "Fraction of test-time output set to zero:  0.0\n",
      "\n",
      "Running tests with p =  0.75\n",
      "Mean of input:  10.0002078785\n",
      "Mean of train-time output:  9.99306858826\n",
      "Mean of test-time output:  10.0002078785\n",
      "Fraction of train-time output set to zero:  0.250496\n",
      "Fraction of test-time output set to zero:  0.0\n",
      "\n"
     ]
    }
   ],
   "source": [
    "np.random.seed(231)\n",
    "x = np.random.randn(500, 500) + 10\n",
    "\n",
    "for p in [0.3, 0.6, 0.75]:\n",
    "  out, _ = dropout_forward(x, {'mode': 'train', 'p': p})\n",
    "  out_test, _ = dropout_forward(x, {'mode': 'test', 'p': p})\n",
    "\n",
    "  print('Running tests with p = ', p)\n",
    "  print('Mean of input: ', x.mean())\n",
    "  print('Mean of train-time output: ', out.mean())\n",
    "  print('Mean of test-time output: ', out_test.mean())\n",
    "  print('Fraction of train-time output set to zero: ', (out == 0).mean())\n",
    "  print('Fraction of test-time output set to zero: ', (out_test == 0).mean())\n",
    "  print()\n",
    "\n",
    "## 失活之后均值和方差影响不大,但减少了神经元的数目,增加了计算速度"
   ]
  },
  {
   "cell_type": "markdown",
   "metadata": {},
   "source": [
    "# Dropout backward pass\n",
    "In the file `cs231n/layers.py`, implement the backward pass for dropout. After doing so, run the following cell to numerically gradient-check your implementation."
   ]
  },
  {
   "cell_type": "code",
   "execution_count": 9,
   "metadata": {},
   "outputs": [
    {
     "name": "stdout",
     "output_type": "stream",
     "text": [
      "dx relative error:  1.89289649711e-11\n"
     ]
    }
   ],
   "source": [
    "np.random.seed(231)   ## 便于梯度检查\n",
    "x = np.random.randn(10, 10) + 10\n",
    "dout = np.random.randn(*x.shape)\n",
    "\n",
    "dropout_param = {'mode': 'train', 'p': 0.8, 'seed': 123}\n",
    "out, cache = dropout_forward(x, dropout_param)\n",
    "dx = dropout_backward(dout, cache)\n",
    "dx_num = eval_numerical_gradient_array(lambda xx: dropout_forward(xx, dropout_param)[0], x, dout)\n",
    "\n",
    "print('dx relative error: ', rel_error(dx, dx_num))"
   ]
  },
  {
   "cell_type": "markdown",
   "metadata": {},
   "source": [
    "# Fully-connected nets with Dropout\n",
    "In the file `cs231n/classifiers/fc_net.py`, modify your implementation to use dropout. Specificially, if the constructor the the net receives a nonzero value for the `dropout` parameter, then the net should add dropout immediately after every ReLU nonlinearity. After doing so, run the following to numerically gradient-check your implementation."
   ]
  },
  {
   "cell_type": "code",
   "execution_count": 6,
   "metadata": {},
   "outputs": [
    {
     "name": "stdout",
     "output_type": "stream",
     "text": [
      "Running check with dropout =  0\n",
      "Initial loss:  2.30047908977\n",
      "W1 relative error: 1.48e-07\n",
      "W2 relative error: 2.21e-05\n",
      "W3 relative error: 3.53e-07\n",
      "b1 relative error: 5.38e-09\n",
      "b2 relative error: 2.09e-09\n",
      "b3 relative error: 5.80e-11\n",
      "\n",
      "Running check with dropout =  0.25\n",
      "Initial loss:  2.29243250883\n",
      "W1 relative error: 2.74e-08\n",
      "W2 relative error: 2.98e-09\n",
      "W3 relative error: 4.29e-09\n",
      "b1 relative error: 7.78e-10\n",
      "b2 relative error: 3.36e-10\n",
      "b3 relative error: 1.65e-10\n",
      "\n",
      "Running check with dropout =  0.5\n",
      "Initial loss:  2.30427592208\n",
      "W1 relative error: 3.11e-07\n",
      "W2 relative error: 1.84e-08\n",
      "W3 relative error: 5.35e-08\n",
      "b1 relative error: 2.58e-08\n",
      "b2 relative error: 2.99e-09\n",
      "b3 relative error: 1.13e-10\n",
      "\n"
     ]
    }
   ],
   "source": [
    "np.random.seed(231)\n",
    "N, D, H1, H2, C = 2, 15, 20, 30, 10\n",
    "X = np.random.randn(N, D)\n",
    "y = np.random.randint(C, size=(N,))\n",
    "\n",
    "for dropout in [0, 0.25, 0.5]:\n",
    "  print('Running check with dropout = ', dropout)\n",
    "  model = FullyConnectedNet([H1, H2], input_dim=D, num_classes=C,\n",
    "                            weight_scale=5e-2, dtype=np.float64,\n",
    "                            dropout=dropout,seed=123)\n",
    "\n",
    "  loss, grads = model.loss(X, y)\n",
    "  print('Initial loss: ', loss)\n",
    "\n",
    "  for name in sorted(grads):\n",
    "    f = lambda _: model.loss(X, y)[0]\n",
    "    grad_num = eval_numerical_gradient(f, model.params[name], verbose=False, h=1e-5)\n",
    "    print('%s relative error: %.2e' % (name, rel_error(grad_num, grads[name])))\n",
    "  print()"
   ]
  },
  {
   "cell_type": "markdown",
   "metadata": {},
   "source": [
    "# Regularization experiment\n",
    "As an experiment, we will train a pair of two-layer networks on 500 training examples: one will use no dropout, and one will use a dropout probability of 0.75. We will then visualize the training and validation accuracies of the two networks over time."
   ]
  },
  {
   "cell_type": "code",
   "execution_count": 13,
   "metadata": {
    "scrolled": false
   },
   "outputs": [
    {
     "name": "stdout",
     "output_type": "stream",
     "text": [
      "0\n",
      "(Iteration 1 / 1250) loss: 4.452159\n",
      "(Epoch 0 / 25) train acc: 0.190000; val_acc: 0.203000\n",
      "(Epoch 1 / 25) train acc: 0.375000; val_acc: 0.336000\n",
      "(Epoch 2 / 25) train acc: 0.492000; val_acc: 0.361000\n",
      "(Epoch 3 / 25) train acc: 0.595000; val_acc: 0.393000\n",
      "(Epoch 4 / 25) train acc: 0.642000; val_acc: 0.386000\n",
      "(Iteration 201 / 1250) loss: 1.036055\n",
      "(Epoch 5 / 25) train acc: 0.667000; val_acc: 0.404000\n",
      "(Epoch 6 / 25) train acc: 0.676000; val_acc: 0.392000\n",
      "(Epoch 7 / 25) train acc: 0.730000; val_acc: 0.407000\n",
      "(Epoch 8 / 25) train acc: 0.730000; val_acc: 0.380000\n",
      "(Iteration 401 / 1250) loss: 0.741300\n",
      "(Epoch 9 / 25) train acc: 0.785000; val_acc: 0.391000\n",
      "(Epoch 10 / 25) train acc: 0.823000; val_acc: 0.406000\n",
      "(Epoch 11 / 25) train acc: 0.818000; val_acc: 0.407000\n",
      "(Epoch 12 / 25) train acc: 0.847000; val_acc: 0.407000\n",
      "(Iteration 601 / 1250) loss: 0.643957\n",
      "(Epoch 13 / 25) train acc: 0.850000; val_acc: 0.399000\n",
      "(Epoch 14 / 25) train acc: 0.861000; val_acc: 0.402000\n",
      "(Epoch 15 / 25) train acc: 0.904000; val_acc: 0.397000\n",
      "(Epoch 16 / 25) train acc: 0.907000; val_acc: 0.392000\n",
      "(Iteration 801 / 1250) loss: 0.346710\n",
      "(Epoch 17 / 25) train acc: 0.896000; val_acc: 0.387000\n",
      "(Epoch 18 / 25) train acc: 0.937000; val_acc: 0.377000\n",
      "(Epoch 19 / 25) train acc: 0.950000; val_acc: 0.389000\n",
      "(Epoch 20 / 25) train acc: 0.957000; val_acc: 0.396000\n",
      "(Iteration 1001 / 1250) loss: 0.120221\n",
      "(Epoch 21 / 25) train acc: 0.962000; val_acc: 0.389000\n",
      "(Epoch 22 / 25) train acc: 0.957000; val_acc: 0.402000\n",
      "(Epoch 23 / 25) train acc: 0.967000; val_acc: 0.400000\n",
      "(Epoch 24 / 25) train acc: 0.982000; val_acc: 0.408000\n",
      "(Iteration 1201 / 1250) loss: 0.167690\n",
      "(Epoch 25 / 25) train acc: 0.987000; val_acc: 0.387000\n",
      "0.75\n",
      "(Iteration 1 / 1250) loss: 4.613398\n",
      "(Epoch 0 / 25) train acc: 0.147000; val_acc: 0.146000\n",
      "(Epoch 1 / 25) train acc: 0.370000; val_acc: 0.315000\n",
      "(Epoch 2 / 25) train acc: 0.450000; val_acc: 0.354000\n",
      "(Epoch 3 / 25) train acc: 0.504000; val_acc: 0.388000\n",
      "(Epoch 4 / 25) train acc: 0.553000; val_acc: 0.393000\n",
      "(Iteration 201 / 1250) loss: 1.614469\n",
      "(Epoch 5 / 25) train acc: 0.587000; val_acc: 0.391000\n",
      "(Epoch 6 / 25) train acc: 0.567000; val_acc: 0.394000\n",
      "(Epoch 7 / 25) train acc: 0.577000; val_acc: 0.417000\n",
      "(Epoch 8 / 25) train acc: 0.642000; val_acc: 0.417000\n",
      "(Iteration 401 / 1250) loss: 1.442538\n",
      "(Epoch 9 / 25) train acc: 0.674000; val_acc: 0.403000\n",
      "(Epoch 10 / 25) train acc: 0.693000; val_acc: 0.407000\n",
      "(Epoch 11 / 25) train acc: 0.693000; val_acc: 0.404000\n",
      "(Epoch 12 / 25) train acc: 0.703000; val_acc: 0.416000\n",
      "(Iteration 601 / 1250) loss: 1.054147\n",
      "(Epoch 13 / 25) train acc: 0.728000; val_acc: 0.394000\n",
      "(Epoch 14 / 25) train acc: 0.742000; val_acc: 0.401000\n",
      "(Epoch 15 / 25) train acc: 0.752000; val_acc: 0.403000\n",
      "(Epoch 16 / 25) train acc: 0.794000; val_acc: 0.418000\n",
      "(Iteration 801 / 1250) loss: 0.821956\n",
      "(Epoch 17 / 25) train acc: 0.792000; val_acc: 0.410000\n",
      "(Epoch 18 / 25) train acc: 0.807000; val_acc: 0.385000\n",
      "(Epoch 19 / 25) train acc: 0.799000; val_acc: 0.408000\n",
      "(Epoch 20 / 25) train acc: 0.833000; val_acc: 0.396000\n",
      "(Iteration 1001 / 1250) loss: 0.789600\n",
      "(Epoch 21 / 25) train acc: 0.822000; val_acc: 0.406000\n",
      "(Epoch 22 / 25) train acc: 0.847000; val_acc: 0.413000\n",
      "(Epoch 23 / 25) train acc: 0.853000; val_acc: 0.391000\n",
      "(Epoch 24 / 25) train acc: 0.836000; val_acc: 0.398000\n",
      "(Iteration 1201 / 1250) loss: 0.809102\n",
      "(Epoch 25 / 25) train acc: 0.879000; val_acc: 0.403000\n"
     ]
    }
   ],
   "source": [
    "# Train two identical nets, one with dropout and one without\n",
    "np.random.seed(231)\n",
    "num_train = 5000\n",
    "small_data = {\n",
    "  'X_train': data['X_train'][:num_train],\n",
    "  'y_train': data['y_train'][:num_train],\n",
    "  'X_val': data['X_val'],\n",
    "  'y_val': data['y_val'],\n",
    "}\n",
    "\n",
    "solvers = {}\n",
    "dropout_choices = [0, 0.75]\n",
    "for dropout in dropout_choices:\n",
    "  model = FullyConnectedNet([100], dropout=dropout)\n",
    "  print(dropout)\n",
    "\n",
    "  solver = Solver(model, small_data,\n",
    "                  num_epochs=25, batch_size=100,   ## iterations = 25*(5000//100) = 125\n",
    "                  update_rule='adam',\n",
    "                  optim_config={\n",
    "                    'learning_rate': 5e-4,\n",
    "                  },\n",
    "                  verbose=True, print_every=200)\n",
    "  solver.train()\n",
    "  solvers[dropout] = solver"
   ]
  },
  {
   "cell_type": "code",
   "execution_count": 14,
   "metadata": {},
   "outputs": [
    {
     "data": {
      "image/png": "[encoded data removed]",
      "text/plain": [
       "<matplotlib.figure.Figure at 0x7f9136d29748>"
      ]
     },
     "metadata": {},
     "output_type": "display_data"
    }
   ],
   "source": [
    "# Plot train and validation accuracies of the two models\n",
    "\n",
    "train_accs = []\n",
    "val_accs = []\n",
    "for dropout in dropout_choices:\n",
    "  solver = solvers[dropout]\n",
    "  train_accs.append(solver.train_acc_history[-1])\n",
    "  val_accs.append(solver.val_acc_history[-1])\n",
    "\n",
    "plt.subplot(3, 1, 1)\n",
    "for dropout in dropout_choices:\n",
    "  plt.plot(solvers[dropout].train_acc_history, 'o', label='%.2f dropout' % dropout)\n",
    "plt.title('Train accuracy')\n",
    "plt.xlabel('Epoch')\n",
    "plt.ylabel('Accuracy')\n",
    "plt.legend(ncol=2, loc='lower right')\n",
    "  \n",
    "plt.subplot(3, 1, 2)\n",
    "for dropout in dropout_choices:\n",
    "  plt.plot(solvers[dropout].val_acc_history, 'o', label='%.2f dropout' % dropout)\n",
    "plt.title('Val accuracy')\n",
    "plt.xlabel('Epoch')\n",
    "plt.ylabel('Accuracy')\n",
    "plt.legend(ncol=2, loc='lower right')\n",
    "\n",
    "plt.gcf().set_size_inches(15, 15)\n",
    "plt.show()"
   ]
  },
  {
   "cell_type": "markdown",
   "metadata": {},
   "source": [
    "# Question\n",
    "Explain what you see in this experiment. What does it suggest about dropout?\n",
    "\n",
    "主要目的是减缓过拟合. 降低了训练集的准确率,但是验证集的准确率也没提升多少..."
   ]
  },
  {
   "cell_type": "markdown",
   "metadata": {},
   "source": [
    "# Answer\n"
   ]
  }
 ],
 "metadata": {
  "kernelspec": {
   "display_name": "Python 3",
   "language": "python",
   "name": "python3"
  },
  "language_info": {
   "codemirror_mode": {
    "name": "ipython",
    "version": 3
   },
   "file_extension": ".py",
   "mimetype": "text/x-python",
   "name": "python",
   "nbconvert_exporter": "python",
   "pygments_lexer": "ipython3",
   "version": "3.6.1"
  }
 },
 "nbformat": 4,
 "nbformat_minor": 1
}
