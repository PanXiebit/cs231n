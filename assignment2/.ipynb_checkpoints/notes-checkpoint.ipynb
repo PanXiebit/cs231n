{
 "cells": [
  {
   "cell_type": "markdown",
   "metadata": {},
   "source": [
    "### numpy.prod¶\n",
    "numpy.prod(a, axis=None, dtype=None, out=None, keepdims=<class 'numpy._globals._NoValue'>)[source]\n",
    "\n",
    "Return the product of array elements over a given axis.\n",
    "返回给定轴上的数组元素的乘积。"
   ]
  },
  {
   "cell_type": "markdown",
   "metadata": {},
   "source": [
    "参数：\n",
    "\n",
    "如果axis是一个整数的元组，则在元组中指定的所有轴上执行乘积，而不是如前所述的单个轴或所有轴\n",
    "  axis = None的默认值将计算输入数组中所有元素的乘积。 如果轴是负值，则从最后一个轴到第一个轴计数。"
   ]
  },
  {
   "cell_type": "code",
   "execution_count": 4,
   "metadata": {},
   "outputs": [
    {
     "data": {
      "text/plain": [
       "array([  2.,  12.])"
      ]
     },
     "execution_count": 4,
     "metadata": {},
     "output_type": "execute_result"
    }
   ],
   "source": [
    "import numpy as np\n",
    "np.prod([[1.,2.],[3.,4.]], axis=1)"
   ]
  },
  {
   "cell_type": "markdown",
   "metadata": {},
   "source": [
    "### numpy.linspace\n",
    "numpy.linspace(start, stop, num=50, endpoint=True, retstep=False, dtype=None)[source]"
   ]
  },
  {
   "cell_type": "markdown",
   "metadata": {},
   "source": [
    "以指定的间隔返回均匀间隔的数字。返回均匀间隔的样本，在间隔[start，stop]上计算。间隔的终点可以选择性地排除"
   ]
  },
  {
   "cell_type": "markdown",
   "metadata": {},
   "source": [
    "Returns:\t\n",
    "samples : ndarray\n",
    "There are num equally spaced samples in the closed interval [start, stop] or the half-open interval [start, stop) (depending on whether endpoint is True or False).\n",
    "\n",
    "step : float, optional\n",
    "Only returned if retstep is True\n",
    "Size of spacing between samples."
   ]
  },
  {
   "cell_type": "code",
   "execution_count": 10,
   "metadata": {},
   "outputs": [
    {
     "name": "stdout",
     "output_type": "stream",
     "text": [
      "[ 2.    2.25  2.5   2.75  3.  ]\n",
      "[ 2.   2.2  2.4  2.6  2.8]\n",
      "(array([ 2.  ,  2.25,  2.5 ,  2.75,  3.  ]), 0.25)\n"
     ]
    },
    {
     "data": {
      "text/plain": [
       "(None, None, None)"
      ]
     },
     "execution_count": 10,
     "metadata": {},
     "output_type": "execute_result"
    }
   ],
   "source": [
    "a = np.linspace(2.0, 3.0, num=5)\n",
    "b = np.linspace(2.0, 3.0, num=5, endpoint=False)\n",
    "c = np.linspace(2.0, 3.0, num=5, retstep=True)\n",
    "print(a),print(b),print(c)"
   ]
  },
  {
   "cell_type": "code",
   "execution_count": null,
   "metadata": {
    "collapsed": true
   },
   "outputs": [],
   "source": []
  }
 ],
 "metadata": {
  "kernelspec": {
   "display_name": "Python 3",
   "language": "python",
   "name": "python3"
  },
  "language_info": {
   "codemirror_mode": {
    "name": "ipython",
    "version": 3
   },
   "file_extension": ".py",
   "mimetype": "text/x-python",
   "name": "python",
   "nbconvert_exporter": "python",
   "pygments_lexer": "ipython3",
   "version": "3.6.1"
  }
 },
 "nbformat": 4,
 "nbformat_minor": 2
}
