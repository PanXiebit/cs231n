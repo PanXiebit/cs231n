{
 "cells": [
  {
   "cell_type": "code",
   "execution_count": 1,
   "metadata": {
    "collapsed": true
   },
   "outputs": [],
   "source": [
    "def svm_loss_naive(W, X, y, reg):\n",
    "    \"\"\"\n",
    "    Inputs have dimension D, there are C classes, and we operate on minibatches\n",
    "    of N examples.\n",
    "\n",
    "    Inputs:\n",
    "    - W: A numpy array of shape (D, C) containing weights.\n",
    "    - X: A numpy array of shape (N, D) containing a minibatch of data.\n",
    "    - y: A numpy array of shape (N,) containing training labels; y[i] = c means\n",
    "      that X[i] has label c, where 0 <= c < C.\n",
    "    - reg: (float) regularization strength\n",
    "\n",
    "    Returns a tuple of:\n",
    "    - loss as single float\n",
    "    - gradient with respect to weights W; an array of same shape as W\n",
    "    \"\"\"\n",
    "    dW = np.zeros(W.shape)  # initialize the gradient as zero\n",
    "    # compute the loss and the gradient\n",
    "    num_classes = W.shape[1]\n",
    "    num_train = X.shape[0]\n",
    "    loss = 0.0\n",
    "    for i in xrange(num_train):\n",
    "        scores = X[i].dot(W)\n",
    "        correct_class_score = scores[y[i]]  # y[i]表示第i个样本的真实标签。score表示其得分\n",
    "        for j in xrange(num_classes): #j表示\n",
    "            if j == y[i]:\n",
    "                continue     # 如果满足，则跳出该for循环。即公式里面，求和时j!=y_{i}\n",
    "            margin = scores[j] - correct_class_score + 1  # note delta = 1\n",
    "            if margin > 0:\n",
    "                loss += margin\n",
    "                dW[:, j] += X[i].T  #矩阵求导\n",
    "                dW[:, y[i]] -= X[i].T\n",
    "\n",
    "            # Right now the loss is a sum over all training examples, but we want it\n",
    "            # to be an average instead so we divide by num_train.\n",
    "    loss /= num_train\n",
    "    dW /= num_train\n",
    "    dW += reg * 2 * W\n",
    "\n",
    "    # Add regularization to the loss.\n",
    "    loss += reg * np.sum(W * W)  # L2 正则化项\n",
    "\n",
    "    #############################################################################\n",
    "    # TODO:                                                                     #\n",
    "    # Compute the gradient of the loss function and store it dW.                #\n",
    "    # Rather that first computing the loss and then computing the derivative,   #\n",
    "    # it may be simpler to compute the derivative at the same time that the     #\n",
    "    # loss is being computed. As a result you may need to modify some of the    #\n",
    "    # code above to compute the gradient.                                       #\n",
    "    #############################################################################\n",
    "    return loss, dW"
   ]
  },
  {
   "attachments": {
    "image.png": {
     "image/png": "[encoded data removed]"
    }
   },
   "cell_type": "markdown",
   "metadata": {},
   "source": [
    "这个题目主要难点是 Loss 对 W 的偏导数要弄清楚怎么求, 然后就可以程序实现了。 \n",
    "\n",
    "首先看损失函数公式（1）![image.png](attachment:image.png)"
   ]
  },
  {
   "cell_type": "markdown",
   "metadata": {},
   "source": [
    "其中对于某一个样本Xi(shape=(1,D)),与权重W(shape=(D,C))(可以看出所有样本共享参数)，得到其损失函数为Li(shape=(1,C)),反向求导求梯度dW：\n",
    "样本Xi分别与权重W中的每一列Wj相乘，得到对应的损失函数Lij，故dWj分别受Lij的影响。\n",
    "对公式（1）求导：\n",
    "当 j==yi 时： dWyi = -Xi\n",
    "当 j!= yi 时：dWi = Xi\n",
    "(dWj和一个样本xi包含的元素一样多，xi对应位置的分量给对应位置的dWj分量带来贡献）\n",
    "所有样本共享参数，故所有的样本累计求一遍，然后再除以样本总数，并加上正则项，就可以得到我们要求的 dW。"
   ]
  },
  {
   "cell_type": "code",
   "execution_count": null,
   "metadata": {
    "collapsed": true
   },
   "outputs": [],
   "source": [
    "# Compute the loss and its gradient at W.\n",
    "loss, grad = svm_loss_naive(W, X_dev, y_dev, 0.0)\n",
    "\n",
    "# Numerically compute the gradient along several randomly chosen dimensions, and\n",
    "# compare them with your analytically computed gradient. The numbers should match\n",
    "# almost exactly along all dimensions.\n",
    "from cs231n.gradient_check import grad_check_sparse\n",
    "f = lambda w: svm_loss_naive(w, X_dev, y_dev, 0.0)[0]\n",
    "grad_numerical = grad_check_sparse(f, W, grad)"
   ]
  },
  {
   "cell_type": "markdown",
   "metadata": {},
   "source": [
    "这里涉及到lambda函数中嵌套函数\n",
    "其中在grad_check_sparse函数中，W是函数f的参数，W带入svm_loss_naive函数中得到返回值[0]即loss，loss是关于W的函数，即可用差值法求梯度。"
   ]
  },
  {
   "cell_type": "code",
   "execution_count": null,
   "metadata": {
    "collapsed": true
   },
   "outputs": [],
   "source": [
    "def svm_loss_vectorized(W, X, y, reg):\n",
    "    \"\"\"\n",
    "    Structured SVM loss function, vectorized implementation.\n",
    "\n",
    "    Inputs and outputs are the same as svm_loss_naive.\n",
    "    \"\"\"\n",
    "    loss = 0.0\n",
    "    num_train = X.shape[0]\n",
    "    dW = np.zeros(W.shape)  # initialize the gradient as zero\n",
    "    #############################################################################\n",
    "    # TODO:                                                                     #\n",
    "    # Implement a vectorized version of the structured SVM loss, storing the    #\n",
    "    # result in loss.                                                           #\n",
    "    #############################################################################\n",
    "    scores = X.dot(W)\n",
    "    correct_class_scores = scores[np.arange(num_train), y].reshape(num_train, 1)\n",
    "    margins = scores - correct_class_scores + 1\n",
    "    margins[margins < 0] = 0\n",
    "    margins[np.arange(num_train), y] = 0\n",
    "    loss = np.sum(margins)  # 所有的超过边界的值的和\n",
    "    loss /= num_train\n",
    "    loss += reg * np.sum(W ** 2)\n",
    "\n",
    "    #############################################################################\n",
    "    #                             END OF YOUR CODE                              #\n",
    "    #############################################################################\n",
    "\n",
    "\n",
    "    #############################################################################\n",
    "    # TODO:                                                                     #\n",
    "    # Implement a vectorized version of the gradient for the structured SVM     #\n",
    "    # loss, storing the result in dW.                                           #\n",
    "    #                                                                           #\n",
    "    # Hint: Instead of computing the gradient from scratch, it may be easier    #\n",
    "    # to reuse some of the intermediate values that you used to compute the     #\n",
    "    # loss.                                                                     #\n",
    "    #############################################################################\n",
    "    X_mask = np.zeros(margins.shape)\n",
    "    X_mask[margins > 0] = 1\n",
    "    incorrect_counts = np.sum(X_mask, axis=1)\n",
    "    X_mask[np.arange(num_train), y] = -incorrect_counts\n",
    "    dW = X.T.dot(X_mask)\n",
    "    dW /= num_train\n",
    "    dW += reg  * W\n",
    "    #############################################################################\n",
    "    #                             END OF YOUR CODE                              #\n",
    "    #############################################################################\n",
    "    return loss, dW"
   ]
  },
  {
   "cell_type": "markdown",
   "metadata": {},
   "source": [
    "这题里面有两点需要理解，ndarray[ndarray,list]中间两个参数可以这么用\n",
    "correct_class_scores = scores[np.arange(num_train), y].reshape(num_train, 1)\n",
    "举例如下："
   ]
  },
  {
   "cell_type": "code",
   "execution_count": 10,
   "metadata": {},
   "outputs": [
    {
     "name": "stdout",
     "output_type": "stream",
     "text": [
      "[[1 5 3 8 4]\n",
      " [8 8 2 8 2]\n",
      " [6 1 2 1 2]\n",
      " [7 4 8 1 5]\n",
      " [5 5 3 4 1]]\n",
      "[1 8 2 1 1]\n"
     ]
    }
   ],
   "source": [
    "import numpy as np\n",
    "a = np.random.randint(1,9,(5,5))\n",
    "print(a)\n",
    "b = a[np.arange(5),[0,1,2,3,4]]\n",
    "print(b)"
   ]
  },
  {
   "cell_type": "code",
   "execution_count": null,
   "metadata": {
    "collapsed": true
   },
   "outputs": [],
   "source": []
  }
 ],
 "metadata": {
  "kernelspec": {
   "display_name": "Python 3",
   "language": "python",
   "name": "python3"
  },
  "language_info": {
   "codemirror_mode": {
    "name": "ipython",
    "version": 3
   },
   "file_extension": ".py",
   "mimetype": "text/x-python",
   "name": "python",
   "nbconvert_exporter": "python",
   "pygments_lexer": "ipython3",
   "version": "3.6.3"
  }
 },
 "nbformat": 4,
 "nbformat_minor": 2
}
