{
 "cells": [
  {
   "cell_type": "markdown",
   "metadata": {},
   "source": [
    "### 1. 门控循环单元　Gate Recurrent Unit\n",
    "\n",
    "GRU改变了RNN的隐藏层，能更好的捕捉深层连接，并且改善了解决梯度消失问题。\n",
    "\n",
    "#### RNN unit\n",
    "![这里写图片描述](http://img.blog.csdn.net/20180301111938480?watermark/2/text/aHR0cDovL2Jsb2cuY3Nkbi5uZXQvcGFueGlhb3hpZQ==/font/5a6L5L2T/fontsize/400/fill/I0JBQkFCMA==/dissolve/70/gravity/SouthEast)\n",
    "\n",
    "RNN的缺点：我们知道在传统的神经网络传递中$a^{<t>} = g(W_{a}\\cdot[a{<t-1>},x{<t>}] + b_a)$, 很容易造成梯度消失，并且神经网络不擅长处理长期依赖的问题。以语言模型为例，即序列很难反向传播到比较靠前的部分，也就难以调整序列前面的计算。\n",
    "\n",
    "#### simpled GRU\n",
    "![这里写图片描述](http://img.blog.csdn.net/20180301112407079?watermark/2/text/aHR0cDovL2Jsb2cuY3Nkbi5uZXQvcGFueGlhb3hpZQ==/font/5a6L5L2T/fontsize/400/fill/I0JBQkFCMA==/dissolve/70/gravity/SouthEast)\n",
    "\n",
    "GRU改变了隐藏层，使用$c^{<t>}$代替$a^{<t>}$　　ｃ= memory cell\n",
    "\n",
    "$\\tilde c^{<t>} = tanh(W_c\\cdot[c^{<t-1>},x^{<t>}]+b_c)$\n",
    "\n",
    "$\\gamma_u=\\sigma(W_u\\cdot[c^{<t-1>},x^{<t>}]+b_u)$\n",
    "\n",
    "$ｃ^{<t>} = r_u*\\tilde c^{<t>} + (1-r_u)*c^{<t-1>}\\quad$  这里是element wise\n",
    "\n",
    "根据gate $r_u$的值，来判断是否update $ｃ^{<t>}$的值\n",
    "\n",
    "####  full GRU\n",
    "\n",
    "$\\gamma_u=\\sigma(W_u\\cdot[c^{<t-1>},x^{<t>}]+b_u)\\quad$ output gate,判断是否更新$c^{<t>}$\n",
    "\n",
    "$\\gamma_r=\\sigma(W_u\\cdot[c^{<t-1>},x^{<t>}]+b_r)\\quad$ update gate，r代表相关性，表示$c^{<t-1>}$和$c^{<t>}有多大的相关性$\n",
    "\n",
    "$\\tilde c^{<t>} = tanh(W_c\\cdot[\\gamma_r*c^{<t-1>},x^{<t>}]+b_c)$\n",
    "\n",
    "$ｃ^{<t>} = \\gamma_u*\\tilde c^{<t>} + (1-\\gamma_u)*c^{<t-1>}\\quad$  这里是element wise"
   ]
  },
  {
   "cell_type": "markdown",
   "metadata": {},
   "source": [
    "### 2.长短时记忆网络LSTM(the long short term memory nuits)"
   ]
  },
  {
   "cell_type": "markdown",
   "metadata": {},
   "source": [
    "[Hochreiter & Schmidhuber 1997.Long short-term memory]"
   ]
  },
  {
   "cell_type": "markdown",
   "metadata": {},
   "source": [
    "在GRU中$c^{<t>}=a^{<t>}$，在LSTM中不是这样的。"
   ]
  },
  {
   "cell_type": "markdown",
   "metadata": {},
   "source": [
    "![这里写图片描述](http://img.blog.csdn.net/20180301141241247?watermark/2/text/aHR0cDovL2Jsb2cuY3Nkbi5uZXQvcGFueGlhb3hpZQ==/font/5a6L5L2T/fontsize/400/fill/I0JBQkFCMA==/dissolve/70/gravity/SouthEast)"
   ]
  },
  {
   "cell_type": "markdown",
   "metadata": {},
   "source": [
    "$\\tilde c^{<t>} = tanh(W_c\\cdot[a^{<t-1>},x^{<t>}]+b_c)\\quad$   记忆细胞:memory cell \n",
    "\n",
    "$\\gamma_u = \\sigma(W_u\\cdot[a^{<t-1>},x^{<t>}]+b_u)\\quad$   更新门:update gate\n",
    "\n",
    "$\\gamma_f = \\sigma(W_f\\cdot[a^{<t-1>},x^{<t>}]+b_f)\\quad$   遗忘门:forget gate\n",
    "\n",
    "$\\gamma_o = \\sigma(W_o\\cdot[a^{<t-1>},x^{<t>}]+b_o)\\quad$   输出门:output gate\n",
    " \n",
    "$ｃ^{<t>} = \\gamma_u*\\tilde c^{<t>} + \\gamma_f*c^{<t-1>}\\quad$ 记忆细胞更新值\n",
    "\n",
    "$a^{<t>} = \\gamma_o*tanhｃ^{<t>} $"
   ]
  },
  {
   "cell_type": "markdown",
   "metadata": {},
   "source": [
    "![这里写图片描述](http://img.blog.csdn.net/20180301142225933?watermark/2/text/aHR0cDovL2Jsb2cuY3Nkbi5uZXQvcGFueGlhb3hpZQ==/font/5a6L5L2T/fontsize/400/fill/I0JBQkFCMA==/dissolve/70/gravity/SouthEast)"
   ]
  },
  {
   "cell_type": "markdown",
   "metadata": {},
   "source": [
    "#### peephole connection : $c^{<t-1>}$也能影响gate values"
   ]
  },
  {
   "cell_type": "markdown",
   "metadata": {},
   "source": [
    "### 3. Bidirectional RNN  (BRNN)"
   ]
  },
  {
   "cell_type": "markdown",
   "metadata": {},
   "source": [
    "acyclic graph\n",
    "\n",
    "![这里写图片描述](http://img.blog.csdn.net/20180301144546515?watermark/2/text/aHR0cDovL2Jsb2cuY3Nkbi5uZXQvcGFueGlhb3hpZQ==/font/5a6L5L2T/fontsize/400/fill/I0JBQkFCMA==/dissolve/70/gravity/SouthEast)"
   ]
  },
  {
   "cell_type": "markdown",
   "metadata": {},
   "source": [
    "### 4. Deep RNNs"
   ]
  },
  {
   "cell_type": "markdown",
   "metadata": {},
   "source": [
    "![这里写图片描述](http://img.blog.csdn.net/20180301145426010?watermark/2/text/aHR0cDovL2Jsb2cuY3Nkbi5uZXQvcGFueGlhb3hpZQ==/font/5a6L5L2T/fontsize/400/fill/I0JBQkFCMA==/dissolve/70/gravity/SouthEast)"
   ]
  }
 ],
 "metadata": {
  "kernelspec": {
   "display_name": "Python 3",
   "language": "python",
   "name": "python3"
  },
  "language_info": {
   "codemirror_mode": {
    "name": "ipython",
    "version": 3
   },
   "file_extension": ".py",
   "mimetype": "text/x-python",
   "name": "python",
   "nbconvert_exporter": "python",
   "pygments_lexer": "ipython3",
   "version": "3.6.4"
  }
 },
 "nbformat": 4,
 "nbformat_minor": 2
}
