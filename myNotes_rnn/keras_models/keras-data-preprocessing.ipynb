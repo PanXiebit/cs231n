{
 "cells": [
  {
   "cell_type": "markdown",
   "metadata": {},
   "source": [
    "### 句子分割text_to_word_sequence"
   ]
  },
  {
   "cell_type": "code",
   "execution_count": 8,
   "metadata": {},
   "outputs": [
    {
     "data": {
      "text/plain": [
       "['xiepan', \"'\", 'aaa', 'chuna']"
      ]
     },
     "execution_count": 8,
     "metadata": {},
     "output_type": "execute_result"
    }
   ],
   "source": [
    "from keras.preprocessing import text\n",
    "sample_text = \"Xiepan#' aaa chuna!!!\"\n",
    "text.text_to_word_sequence(sample_text,\n",
    "                      filters='!\"#$%&()*+,-./:;<=>?@[\\]^_`{|}~\\t\\n',\n",
    "                      lower=True,\n",
    "                      split=\" \")\n"
   ]
  },
  {
   "cell_type": "markdown",
   "metadata": {},
   "source": [
    "### one-hot 编码"
   ]
  },
  {
   "cell_type": "code",
   "execution_count": 11,
   "metadata": {},
   "outputs": [
    {
     "data": {
      "text/plain": [
       "[3, 4, 1, 3]"
      ]
     },
     "execution_count": 11,
     "metadata": {},
     "output_type": "execute_result"
    }
   ],
   "source": [
    "text.one_hot(sample_text,\n",
    "             5,\n",
    "             filters='!\"#$%&()*+,-./:;<=>?@[\\]^_`{|}~\\t\\n',\n",
    "             lower=True,\n",
    "             split=\" \")"
   ]
  },
  {
   "cell_type": "markdown",
   "metadata": {},
   "source": [
    "### 分词器Tokenizer：这是一个类"
   ]
  },
  {
   "cell_type": "markdown",
   "metadata": {},
   "source": [
    "```python\n",
    "keras.preprocessing.text.Tokenizer(num_words=None,\n",
    "                                   filters='!\"#$%&()*+,-./:;<=>?@[\\]^_`{|}~\\t\\n',\n",
    "                                   lower=True,\n",
    "                                   split=\" \",\n",
    "                                   char_level=False)\n",
    "```"
   ]
  },
  {
   "cell_type": "markdown",
   "metadata": {},
   "source": [
    "Tokenizer是一个用于向量化文本，或将文本转换为序列（即单词在字典中的下标构成的列表，从1算起）的类。"
   ]
  },
  {
   "cell_type": "markdown",
   "metadata": {},
   "source": [
    "#### 构造参数\n",
    "- 与text_to_word_sequence同名参数含义相同\n",
    "\n",
    "- num_words：None或整数，处理的最大单词数量。若被设置为整数，则分词器将被限制为待处理数据集中最常见的num_words个单词\n",
    "\n",
    "- char_level: 如果为 True, 每个字符将被视为一个标记"
   ]
  },
  {
   "cell_type": "markdown",
   "metadata": {},
   "source": [
    "#### 类方法"
   ]
  },
  {
   "cell_type": "markdown",
   "metadata": {},
   "source": [
    "- fit_on_texts(texts)\n",
    "\n",
    "    - texts：要用以训练的文本列表\n",
    "    \n",
    "    \n",
    "- texts_to_sequences(texts)\n",
    "\n",
    "    - texts：待转为序列的文本列表\n",
    "\n",
    "    - 返回值：序列的列表，列表中每个序列对应于一段输入文本\n",
    "    \n",
    "\n",
    "- texts_to_sequences_generator(texts)\n",
    "\n",
    "    - 本函数是texts_to_sequences的生成器函数版\n",
    "\n",
    "    - texts：待转为序列的文本列表\n",
    "\n",
    "    - 返回值：每次调用返回对应于一段输入文本的序列\n",
    "    \n",
    "\n",
    "- texts_to_matrix(texts, mode)：\n",
    "\n",
    "    - texts：待向量化的文本列表\n",
    "\n",
    "    - mode：‘binary’，‘count’，‘tfidf’，‘freq’之一，默认为‘binary’\n",
    "\n",
    "    - 返回值：形如(len(texts), nb_words)的numpy array\n",
    "    \n",
    "\n",
    "- fit_on_sequences(sequences):\n",
    "\n",
    "    - sequences：要用以训练的序列列表\n",
    "    \n",
    "\n",
    "- sequences_to_matrix(sequences):\n",
    "\n",
    "    - sequences：待向量化的序列列表\n",
    "\n",
    "    - mode：‘binary’，‘count’，‘tfidf’，‘freq’之一，默认为‘binary’\n",
    "\n",
    "    - 返回值：形如(len(sequences), nb_words)的numpy array"
   ]
  },
  {
   "cell_type": "markdown",
   "metadata": {},
   "source": [
    "#### 属性"
   ]
  },
  {
   "cell_type": "markdown",
   "metadata": {},
   "source": [
    "- word_counts:字典，将单词（字符串）映射为它们在训练期间出现的次数。仅在调用fit_on_texts之后设置。\n",
    "- word_docs: 字典，将单词（字符串）映射为它们在训练期间所出现的文档或文本的数量。仅在调用fit_on_texts之后设置。\n",
    "- word_index: 字典，将单词（字符串）映射为它们的排名或者索引。仅在调用fit_on_texts之后设置。\n",
    "- document_count: 整数。分词器被训练的文档（文本或者序列）数量。仅在调用fit_on_texts或fit_on_sequences之后设置。"
   ]
  }
 ],
 "metadata": {
  "kernelspec": {
   "display_name": "Python 3",
   "language": "python",
   "name": "python3"
  },
  "language_info": {
   "codemirror_mode": {
    "name": "ipython",
    "version": 3
   },
   "file_extension": ".py",
   "mimetype": "text/x-python",
   "name": "python",
   "nbconvert_exporter": "python",
   "pygments_lexer": "ipython3",
   "version": "3.6.4"
  }
 },
 "nbformat": 4,
 "nbformat_minor": 2
}
